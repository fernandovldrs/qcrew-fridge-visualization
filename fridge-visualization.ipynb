{
 "cells": [
  {
   "cell_type": "markdown",
   "metadata": {},
   "source": [
    "### Imports and definitions"
   ]
  },
  {
   "cell_type": "code",
   "execution_count": 1,
   "metadata": {},
   "outputs": [],
   "source": [
    "# Import libraries\n",
    "from parse_and_plot_log import *\n",
    "import matplotlib.pyplot as plt\n",
    "%matplotlib widget\n",
    "\n",
    "# Obs: the widget magic assumes you have installed NodeJS and \n",
    "# @jupyter-widgets/jupyterlab-manager jupyter extension\n",
    "# \n",
    "# To do that, run commands:\n",
    "# > conda install nodejs\n",
    "# > jupyter labextension install @jupyter-widgets/jupyterlab-manager\n",
    "# Then restart jupyter notebook to correctly display the plot"
   ]
  },
  {
   "cell_type": "code",
   "execution_count": 2,
   "metadata": {},
   "outputs": [
    {
     "data": {
      "text/html": [
       "<div>\n",
       "<style scoped>\n",
       "    .dataframe tbody tr th:only-of-type {\n",
       "        vertical-align: middle;\n",
       "    }\n",
       "\n",
       "    .dataframe tbody tr th {\n",
       "        vertical-align: top;\n",
       "    }\n",
       "\n",
       "    .dataframe thead th {\n",
       "        text-align: right;\n",
       "    }\n",
       "</style>\n",
       "<table border=\"1\" class=\"dataframe\">\n",
       "  <thead>\n",
       "    <tr style=\"text-align: right;\">\n",
       "      <th></th>\n",
       "      <th>CH1</th>\n",
       "      <th>CH2</th>\n",
       "      <th>CH3</th>\n",
       "      <th>CH4</th>\n",
       "      <th>CH5</th>\n",
       "      <th>CH6</th>\n",
       "    </tr>\n",
       "  </thead>\n",
       "  <tbody>\n",
       "    <tr>\n",
       "      <th>2021-01-26 10:47:55.000</th>\n",
       "      <td>0.000000</td>\n",
       "      <td>0.00</td>\n",
       "      <td>0.0</td>\n",
       "      <td>0.0</td>\n",
       "      <td>0.00</td>\n",
       "      <td>0.00</td>\n",
       "    </tr>\n",
       "    <tr>\n",
       "      <th>2021-01-26 10:48:56.000</th>\n",
       "      <td>0.000000</td>\n",
       "      <td>0.00</td>\n",
       "      <td>0.0</td>\n",
       "      <td>0.0</td>\n",
       "      <td>0.00</td>\n",
       "      <td>0.00</td>\n",
       "    </tr>\n",
       "    <tr>\n",
       "      <th>2021-01-26 10:56:08.500</th>\n",
       "      <td>NaN</td>\n",
       "      <td>NaN</td>\n",
       "      <td>NaN</td>\n",
       "      <td>NaN</td>\n",
       "      <td>NaN</td>\n",
       "      <td>NaN</td>\n",
       "    </tr>\n",
       "    <tr>\n",
       "      <th>2021-01-26 11:00:15.250</th>\n",
       "      <td>NaN</td>\n",
       "      <td>NaN</td>\n",
       "      <td>NaN</td>\n",
       "      <td>NaN</td>\n",
       "      <td>NaN</td>\n",
       "      <td>NaN</td>\n",
       "    </tr>\n",
       "    <tr>\n",
       "      <th>2021-01-26 11:02:48.625</th>\n",
       "      <td>NaN</td>\n",
       "      <td>NaN</td>\n",
       "      <td>NaN</td>\n",
       "      <td>NaN</td>\n",
       "      <td>NaN</td>\n",
       "      <td>NaN</td>\n",
       "    </tr>\n",
       "    <tr>\n",
       "      <th>...</th>\n",
       "      <td>...</td>\n",
       "      <td>...</td>\n",
       "      <td>...</td>\n",
       "      <td>...</td>\n",
       "      <td>...</td>\n",
       "      <td>...</td>\n",
       "    </tr>\n",
       "    <tr>\n",
       "      <th>2021-02-08 11:56:21.000</th>\n",
       "      <td>0.000005</td>\n",
       "      <td>0.03</td>\n",
       "      <td>438.0</td>\n",
       "      <td>461.0</td>\n",
       "      <td>8.19</td>\n",
       "      <td>1.53</td>\n",
       "    </tr>\n",
       "    <tr>\n",
       "      <th>2021-02-08 11:57:22.000</th>\n",
       "      <td>0.000005</td>\n",
       "      <td>0.03</td>\n",
       "      <td>438.0</td>\n",
       "      <td>461.0</td>\n",
       "      <td>8.22</td>\n",
       "      <td>1.53</td>\n",
       "    </tr>\n",
       "    <tr>\n",
       "      <th>2021-02-08 11:58:24.000</th>\n",
       "      <td>0.000005</td>\n",
       "      <td>0.03</td>\n",
       "      <td>447.0</td>\n",
       "      <td>461.0</td>\n",
       "      <td>8.26</td>\n",
       "      <td>1.53</td>\n",
       "    </tr>\n",
       "    <tr>\n",
       "      <th>2021-02-08 11:59:26.000</th>\n",
       "      <td>0.000005</td>\n",
       "      <td>0.03</td>\n",
       "      <td>439.0</td>\n",
       "      <td>461.0</td>\n",
       "      <td>8.30</td>\n",
       "      <td>1.53</td>\n",
       "    </tr>\n",
       "    <tr>\n",
       "      <th>2021-02-08 12:00:27.000</th>\n",
       "      <td>0.000005</td>\n",
       "      <td>0.03</td>\n",
       "      <td>442.0</td>\n",
       "      <td>461.0</td>\n",
       "      <td>8.24</td>\n",
       "      <td>1.53</td>\n",
       "    </tr>\n",
       "  </tbody>\n",
       "</table>\n",
       "<p>13661 rows × 6 columns</p>\n",
       "</div>"
      ],
      "text/plain": [
       "                              CH1   CH2    CH3    CH4   CH5   CH6\n",
       "2021-01-26 10:47:55.000  0.000000  0.00    0.0    0.0  0.00  0.00\n",
       "2021-01-26 10:48:56.000  0.000000  0.00    0.0    0.0  0.00  0.00\n",
       "2021-01-26 10:56:08.500       NaN   NaN    NaN    NaN   NaN   NaN\n",
       "2021-01-26 11:00:15.250       NaN   NaN    NaN    NaN   NaN   NaN\n",
       "2021-01-26 11:02:48.625       NaN   NaN    NaN    NaN   NaN   NaN\n",
       "...                           ...   ...    ...    ...   ...   ...\n",
       "2021-02-08 11:56:21.000  0.000005  0.03  438.0  461.0  8.19  1.53\n",
       "2021-02-08 11:57:22.000  0.000005  0.03  438.0  461.0  8.22  1.53\n",
       "2021-02-08 11:58:24.000  0.000005  0.03  447.0  461.0  8.26  1.53\n",
       "2021-02-08 11:59:26.000  0.000005  0.03  439.0  461.0  8.30  1.53\n",
       "2021-02-08 12:00:27.000  0.000005  0.03  442.0  461.0  8.24  1.53\n",
       "\n",
       "[13661 rows x 6 columns]"
      ]
     },
     "execution_count": 2,
     "metadata": {},
     "output_type": "execute_result"
    }
   ],
   "source": [
    "log_parsing('log/', 'maxigauge')"
   ]
  },
  {
   "cell_type": "code",
   "execution_count": 3,
   "metadata": {
    "scrolled": false
   },
   "outputs": [
    {
     "data": {
      "application/vnd.jupyter.widget-view+json": {
       "model_id": "dbf68212ccec425388dd943f68a6e347",
       "version_major": 2,
       "version_minor": 0
      },
      "text/plain": [
       "Canvas(toolbar=Toolbar(toolitems=[('Home', 'Reset original view', 'home', 'home'), ('Back', 'Back to previous …"
      ]
     },
     "metadata": {},
     "output_type": "display_data"
    },
    {
     "data": {
      "application/vnd.jupyter.widget-view+json": {
       "model_id": "dc65e2bf09f543208072871ebf0d79f1",
       "version_major": 2,
       "version_minor": 0
      },
      "text/plain": [
       "interactive(children=(Textarea(value='01-01-00 00:00:00', description='Starting time', style=DescriptionStyle(…"
      ]
     },
     "metadata": {},
     "output_type": "display_data"
    }
   ],
   "source": [
    "plot_data('log/')"
   ]
  }
 ],
 "metadata": {
  "kernelspec": {
   "display_name": "Python 3",
   "language": "python",
   "name": "python3"
  },
  "language_info": {
   "codemirror_mode": {
    "name": "ipython",
    "version": 3
   },
   "file_extension": ".py",
   "mimetype": "text/x-python",
   "name": "python",
   "nbconvert_exporter": "python",
   "pygments_lexer": "ipython3",
   "version": "3.8.5"
  }
 },
 "nbformat": 4,
 "nbformat_minor": 4
}
